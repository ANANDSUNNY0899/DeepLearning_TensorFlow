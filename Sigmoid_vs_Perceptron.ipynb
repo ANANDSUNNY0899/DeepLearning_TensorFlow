{
 "cells": [
  {
   "cell_type": "markdown",
   "id": "42ca0613",
   "metadata": {},
   "source": [
    "Comparision Sigmoid and Perceptron"
   ]
  },
  {
   "cell_type": "code",
   "execution_count": null,
   "id": "125ec19a",
   "metadata": {
    "vscode": {
     "languageId": "plaintext"
    }
   },
   "outputs": [],
   "source": [
    "def perceptron()"
   ]
  }
 ],
 "metadata": {
  "language_info": {
   "name": "python"
  }
 },
 "nbformat": 4,
 "nbformat_minor": 5
}
